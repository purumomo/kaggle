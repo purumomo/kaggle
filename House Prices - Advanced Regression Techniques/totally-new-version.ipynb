{
 "cells": [
  {
   "cell_type": "code",
   "execution_count": 1,
   "id": "57a10f8f",
   "metadata": {
    "_cell_guid": "b1076dfc-b9ad-4769-8c92-a6c4dae69d19",
    "_uuid": "8f2839f25d086af736a60e9eeb907d3b93b6e0e5",
    "execution": {
     "iopub.execute_input": "2023-11-18T14:03:10.095009Z",
     "iopub.status.busy": "2023-11-18T14:03:10.094599Z",
     "iopub.status.idle": "2023-11-18T14:03:11.831662Z",
     "shell.execute_reply": "2023-11-18T14:03:11.830231Z"
    },
    "papermill": {
     "duration": 1.750415,
     "end_time": "2023-11-18T14:03:11.833945",
     "exception": false,
     "start_time": "2023-11-18T14:03:10.083530",
     "status": "completed"
    },
    "tags": []
   },
   "outputs": [],
   "source": [
    "# This Python 3 environment comes with many helpful analytics libraries installed\n",
    "# It is defined by the kaggle/python Docker image: https://github.com/kaggle/docker-python\n",
    "# For example, here's several helpful packages to load\n",
    "\n",
    "import numpy as np  # linear algebra\n",
    "import pandas as pd  # data processing, CSV file I/O (e.g. pd.read_csv)\n",
    "import matplotlib.pyplot as plt\n",
    "import seaborn as sns\n",
    "color = sns.color_palette()\n",
    "sns.set_style('darkgrid')\n",
    "\n",
    "\n",
    "from sklearn import preprocessing\n",
    "\n",
    "pd.options.mode.copy_on_write = True\n",
    "pd.options.mode.chained_assignment = None  # default='warn'\n",
    "\n",
    "# Input data files are available in the read-only \"../input/\" directory\n",
    "# For example, running this (by clicking run or pressing Shift+Enter) will list all files under the input directory\n",
    "\n",
    "\n",
    "# You can write up to 20GB to the current directory (/kaggle/working/) that gets preserved as output when you create a version using \"Save & Run All\"\n",
    "# You can also write temporary files to /kaggle/temp/, but they won't be saved outside of the current session"
   ]
  },
  {
   "cell_type": "code",
   "execution_count": 2,
   "id": "cf1bdea6",
   "metadata": {
    "execution": {
     "iopub.execute_input": "2023-11-18T14:03:11.853475Z",
     "iopub.status.busy": "2023-11-18T14:03:11.852990Z",
     "iopub.status.idle": "2023-11-18T14:03:11.859078Z",
     "shell.execute_reply": "2023-11-18T14:03:11.858230Z"
    },
    "papermill": {
     "duration": 0.018039,
     "end_time": "2023-11-18T14:03:11.861082",
     "exception": false,
     "start_time": "2023-11-18T14:03:11.843043",
     "status": "completed"
    },
    "tags": []
   },
   "outputs": [
    {
     "name": "stdout",
     "output_type": "stream",
     "text": [
      "sample_submission.csv\n",
      "data_description.txt\n",
      "train.csv\n",
      "test.csv\n"
     ]
    }
   ],
   "source": [
    "# Useful Package \n",
    "\n",
    "import warnings\n",
    "warnings.filterwarnings(\"ignore\")   # 忽略警告信息\n",
    "\n",
    "from scipy.stats import norm, skew  # 获取统计信息\n",
    "from scipy import stats\n",
    "pd.set_option('display.float_format', lambda x: '{:.3f}'.format(x))  # 限制浮点输出到小数点后3位\n",
    "import os\n",
    "print('\\n'.join(os.listdir('/kaggle/input/house-prices-advanced-regression-techniques')))  # 列出目录中可用的文件"
   ]
  },
  {
   "cell_type": "code",
   "execution_count": 3,
   "id": "7541dfec",
   "metadata": {
    "execution": {
     "iopub.execute_input": "2023-11-18T14:03:11.882177Z",
     "iopub.status.busy": "2023-11-18T14:03:11.881568Z",
     "iopub.status.idle": "2023-11-18T14:03:11.968606Z",
     "shell.execute_reply": "2023-11-18T14:03:11.967868Z"
    },
    "papermill": {
     "duration": 0.100254,
     "end_time": "2023-11-18T14:03:11.970936",
     "exception": false,
     "start_time": "2023-11-18T14:03:11.870682",
     "status": "completed"
    },
    "tags": []
   },
   "outputs": [
    {
     "name": "stdout",
     "output_type": "stream",
     "text": [
      "Training Data Missing Values:\n",
      " LotFrontage      259\n",
      "Alley           1369\n",
      "MasVnrType       872\n",
      "MasVnrArea         8\n",
      "BsmtQual          37\n",
      "BsmtCond          37\n",
      "BsmtExposure      38\n",
      "BsmtFinType1      37\n",
      "BsmtFinType2      38\n",
      "Electrical         1\n",
      "FireplaceQu      690\n",
      "GarageType        81\n",
      "GarageYrBlt       81\n",
      "GarageFinish      81\n",
      "GarageQual        81\n",
      "GarageCond        81\n",
      "PoolQC          1453\n",
      "Fence           1179\n",
      "MiscFeature     1406\n",
      "dtype: int64\n",
      "\n",
      "Test Data Missing Values:\n",
      " MSZoning           4\n",
      "LotFrontage      227\n",
      "Alley           1352\n",
      "Utilities          2\n",
      "Exterior1st        1\n",
      "Exterior2nd        1\n",
      "MasVnrType       894\n",
      "MasVnrArea        15\n",
      "BsmtQual          44\n",
      "BsmtCond          45\n",
      "BsmtExposure      44\n",
      "BsmtFinType1      42\n",
      "BsmtFinSF1         1\n",
      "BsmtFinType2      42\n",
      "BsmtFinSF2         1\n",
      "BsmtUnfSF          1\n",
      "TotalBsmtSF        1\n",
      "BsmtFullBath       2\n",
      "BsmtHalfBath       2\n",
      "KitchenQual        1\n",
      "Functional         2\n",
      "FireplaceQu      730\n",
      "GarageType        76\n",
      "GarageYrBlt       78\n",
      "GarageFinish      78\n",
      "GarageCars         1\n",
      "GarageArea         1\n",
      "GarageQual        78\n",
      "GarageCond        78\n",
      "PoolQC          1456\n",
      "Fence           1169\n",
      "MiscFeature     1408\n",
      "SaleType           1\n",
      "dtype: int64\n"
     ]
    }
   ],
   "source": [
    "train = pd.read_csv(\n",
    "    '/kaggle/input/house-prices-advanced-regression-techniques/train.csv')\n",
    "# missing value in tran\n",
    "missing_train = train.isnull().sum()\n",
    "print(\"Training Data Missing Values:\\n\", missing_train[missing_train > 0])\n",
    "\n",
    "test = pd.read_csv(\n",
    "    '/kaggle/input/house-prices-advanced-regression-techniques/test.csv')\n",
    "# missing value in test\n",
    "test_ID = test['Id']\n",
    "train_ID = train['Id']\n",
    "\n",
    "\n",
    "train.drop(\"Id\", axis = 1, inplace = True)\n",
    "test.drop(\"Id\", axis = 1, inplace = True)\n",
    "\n",
    "\n",
    "\n",
    "missing_test = test.isnull().sum()\n",
    "print(\"\\nTest Data Missing Values:\\n\", missing_test[missing_test > 0])"
   ]
  },
  {
   "cell_type": "markdown",
   "id": "d4d8e488",
   "metadata": {
    "papermill": {
     "duration": 0.009142,
     "end_time": "2023-11-18T14:03:11.989548",
     "exception": false,
     "start_time": "2023-11-18T14:03:11.980406",
     "status": "completed"
    },
    "tags": []
   },
   "source": [
    "## ***目标变量分析***"
   ]
  },
  {
   "cell_type": "code",
   "execution_count": 4,
   "id": "b8173d73",
   "metadata": {
    "execution": {
     "iopub.execute_input": "2023-11-18T14:03:12.009942Z",
     "iopub.status.busy": "2023-11-18T14:03:12.009561Z",
     "iopub.status.idle": "2023-11-18T14:03:12.815863Z",
     "shell.execute_reply": "2023-11-18T14:03:12.814693Z"
    },
    "papermill": {
     "duration": 0.819237,
     "end_time": "2023-11-18T14:03:12.818149",
     "exception": false,
     "start_time": "2023-11-18T14:03:11.998912",
     "status": "completed"
    },
    "tags": []
   },
   "outputs": [
    {
     "data": {
      "image/png": "[encoded data removed]",
      "text/plain": [
       "<Figure size 600x1000 with 2 Axes>"
      ]
     },
     "metadata": {},
     "output_type": "display_data"
    }
   ],
   "source": [
    "fig, ax = plt.subplots(nrows=2, figsize=(6, 10))\n",
    "sns.distplot(train['SalePrice'], fit=norm, ax=ax[0])\n",
    "(mu, sigma) = norm.fit(train['SalePrice'])\n",
    "ax[0].legend(['Normal dist. ($\\mu=$ {:.2f} and $\\sigma=$ {:.2f} )'.format(mu, sigma)], loc='best')\n",
    "ax[0].set_ylabel('Frequency')\n",
    "ax[0].set_title('SalePrice distribution')\n",
    "# QQ图\n",
    "stats.probplot(train['SalePrice'], plot=ax[1])\n",
    "plt.show()"
   ]
  },
  {
   "cell_type": "code",
   "execution_count": 5,
   "id": "6aeccae2",
   "metadata": {
    "execution": {
     "iopub.execute_input": "2023-11-18T14:03:12.839788Z",
     "iopub.status.busy": "2023-11-18T14:03:12.839272Z",
     "iopub.status.idle": "2023-11-18T14:03:13.483398Z",
     "shell.execute_reply": "2023-11-18T14:03:13.482399Z"
    },
    "papermill": {
     "duration": 0.657006,
     "end_time": "2023-11-18T14:03:13.485227",
     "exception": false,
     "start_time": "2023-11-18T14:03:12.828221",
     "status": "completed"
    },
    "tags": []
   },
   "outputs": [
    {
     "data": {
      "image/png": "[encoded data removed]",
      "text/plain": [
       "<Figure size 600x1000 with 2 Axes>"
      ]
     },
     "metadata": {},
     "output_type": "display_data"
    }
   ],
   "source": [
    "# 使用numpy中函数log1p()将log(1+x)应用于列的所有元素\n",
    "train[\"SalePrice\"] = np.log1p(train[\"SalePrice\"])\n",
    "\n",
    "# 查看转换后数据分布\n",
    "# 分布图\n",
    "fig, ax = plt.subplots(nrows=2, figsize=(6, 10))\n",
    "sns.distplot(train['SalePrice'], fit=norm, ax=ax[0])\n",
    "(mu, sigma) = norm.fit(train['SalePrice'])\n",
    "ax[0].legend(['Normal dist. ($\\mu=$ {:.2f} and $\\sigma=$ {:.2f} )'.format(\n",
    "    mu, sigma)], loc='best')\n",
    "ax[0].set_ylabel('Frequency')\n",
    "ax[0].set_title('SalePrice distribution')\n",
    "\n",
    "# QQ图\n",
    "stats.probplot(train['SalePrice'], plot=ax[1])\n",
    "plt.show()"
   ]
  },
  {
   "cell_type": "markdown",
   "id": "d0bbcac4",
   "metadata": {
    "papermill": {
     "duration": 0.010283,
     "end_time": "2023-11-18T14:03:13.506432",
     "exception": false,
     "start_time": "2023-11-18T14:03:13.496149",
     "status": "completed"
    },
    "tags": []
   },
   "source": [
    "## ***合并训练集和测试集的数据***"
   ]
  },
  {
   "cell_type": "code",
   "execution_count": 6,
   "id": "2ea037ff",
   "metadata": {
    "execution": {
     "iopub.execute_input": "2023-11-18T14:03:13.529224Z",
     "iopub.status.busy": "2023-11-18T14:03:13.528531Z",
     "iopub.status.idle": "2023-11-18T14:03:13.541740Z",
     "shell.execute_reply": "2023-11-18T14:03:13.540916Z"
    },
    "papermill": {
     "duration": 0.026665,
     "end_time": "2023-11-18T14:03:13.543548",
     "exception": false,
     "start_time": "2023-11-18T14:03:13.516883",
     "status": "completed"
    },
    "tags": []
   },
   "outputs": [
    {
     "name": "stdout",
     "output_type": "stream",
     "text": [
      "all_data size is : (2919, 79)\n"
     ]
    }
   ],
   "source": [
    "ntrain = train.shape[0]\n",
    "ntest = test.shape[0]\n",
    "\n",
    "y_train = train.SalePrice.values\n",
    "all_data = pd.concat((train, test)).reset_index(drop=True)\n",
    "all_data.drop(['SalePrice'], axis=1, inplace=True)\n",
    "print(\"all_data size is : {}\".format(all_data.shape))"
   ]
  },
  {
   "cell_type": "code",
   "execution_count": 7,
   "id": "be292050",
   "metadata": {
    "execution": {
     "iopub.execute_input": "2023-11-18T14:03:13.566792Z",
     "iopub.status.busy": "2023-11-18T14:03:13.566255Z",
     "iopub.status.idle": "2023-11-18T14:03:13.601132Z",
     "shell.execute_reply": "2023-11-18T14:03:13.599624Z"
    },
    "papermill": {
     "duration": 0.049987,
     "end_time": "2023-11-18T14:03:13.604437",
     "exception": false,
     "start_time": "2023-11-18T14:03:13.554450",
     "status": "completed"
    },
    "tags": []
   },
   "outputs": [
    {
     "data": {
      "text/html": [
       "<div>\n",
       "<style scoped>\n",
       "    .dataframe tbody tr th:only-of-type {\n",
       "        vertical-align: middle;\n",
       "    }\n",
       "\n",
       "    .dataframe tbody tr th {\n",
       "        vertical-align: top;\n",
       "    }\n",
       "\n",
       "    .dataframe thead th {\n",
       "        text-align: right;\n",
       "    }\n",
       "</style>\n",
       "<table border=\"1\" class=\"dataframe\">\n",
       "  <thead>\n",
       "    <tr style=\"text-align: right;\">\n",
       "      <th></th>\n",
       "      <th>MSSubClass</th>\n",
       "      <th>MSZoning</th>\n",
       "      <th>LotFrontage</th>\n",
       "      <th>LotArea</th>\n",
       "      <th>Street</th>\n",
       "      <th>Alley</th>\n",
       "      <th>LotShape</th>\n",
       "      <th>LandContour</th>\n",
       "      <th>Utilities</th>\n",
       "      <th>LotConfig</th>\n",
       "      <th>...</th>\n",
       "      <th>PoolArea</th>\n",
       "      <th>PoolQC</th>\n",
       "      <th>Fence</th>\n",
       "      <th>MiscFeature</th>\n",
       "      <th>MiscVal</th>\n",
       "      <th>MoSold</th>\n",
       "      <th>YrSold</th>\n",
       "      <th>SaleType</th>\n",
       "      <th>SaleCondition</th>\n",
       "      <th>SalePrice</th>\n",
       "    </tr>\n",
       "  </thead>\n",
       "  <tbody>\n",
       "    <tr>\n",
       "      <th>0</th>\n",
       "      <td>60</td>\n",
       "      <td>RL</td>\n",
       "      <td>65.000</td>\n",
       "      <td>8450</td>\n",
       "      <td>Pave</td>\n",
       "      <td>NaN</td>\n",
       "      <td>Reg</td>\n",
       "      <td>Lvl</td>\n",
       "      <td>AllPub</td>\n",
       "      <td>Inside</td>\n",
       "      <td>...</td>\n",
       "      <td>0</td>\n",
       "      <td>NaN</td>\n",
       "      <td>NaN</td>\n",
       "      <td>NaN</td>\n",
       "      <td>0</td>\n",
       "      <td>2</td>\n",
       "      <td>2008</td>\n",
       "      <td>WD</td>\n",
       "      <td>Normal</td>\n",
       "      <td>12.248</td>\n",
       "    </tr>\n",
       "    <tr>\n",
       "      <th>1</th>\n",
       "      <td>20</td>\n",
       "      <td>RL</td>\n",
       "      <td>80.000</td>\n",
       "      <td>9600</td>\n",
       "      <td>Pave</td>\n",
       "      <td>NaN</td>\n",
       "      <td>Reg</td>\n",
       "      <td>Lvl</td>\n",
       "      <td>AllPub</td>\n",
       "      <td>FR2</td>\n",
       "      <td>...</td>\n",
       "      <td>0</td>\n",
       "      <td>NaN</td>\n",
       "      <td>NaN</td>\n",
       "      <td>NaN</td>\n",
       "      <td>0</td>\n",
       "      <td>5</td>\n",
       "      <td>2007</td>\n",
       "      <td>WD</td>\n",
       "      <td>Normal</td>\n",
       "      <td>12.109</td>\n",
       "    </tr>\n",
       "    <tr>\n",
       "      <th>2</th>\n",
       "      <td>60</td>\n",
       "      <td>RL</td>\n",
       "      <td>68.000</td>\n",
       "      <td>11250</td>\n",
       "      <td>Pave</td>\n",
       "      <td>NaN</td>\n",
       "      <td>IR1</td>\n",
       "      <td>Lvl</td>\n",
       "      <td>AllPub</td>\n",
       "      <td>Inside</td>\n",
       "      <td>...</td>\n",
       "      <td>0</td>\n",
       "      <td>NaN</td>\n",
       "      <td>NaN</td>\n",
       "      <td>NaN</td>\n",
       "      <td>0</td>\n",
       "      <td>9</td>\n",
       "      <td>2008</td>\n",
       "      <td>WD</td>\n",
       "      <td>Normal</td>\n",
       "      <td>12.317</td>\n",
       "    </tr>\n",
       "    <tr>\n",
       "      <th>3</th>\n",
       "      <td>70</td>\n",
       "      <td>RL</td>\n",
       "      <td>60.000</td>\n",
       "      <td>9550</td>\n",
       "      <td>Pave</td>\n",
       "      <td>NaN</td>\n",
       "      <td>IR1</td>\n",
       "      <td>Lvl</td>\n",
       "      <td>AllPub</td>\n",
       "      <td>Corner</td>\n",
       "      <td>...</td>\n",
       "      <td>0</td>\n",
       "      <td>NaN</td>\n",
       "      <td>NaN</td>\n",
       "      <td>NaN</td>\n",
       "      <td>0</td>\n",
       "      <td>2</td>\n",
       "      <td>2006</td>\n",
       "      <td>WD</td>\n",
       "      <td>Abnorml</td>\n",
       "      <td>11.849</td>\n",
       "    </tr>\n",
       "    <tr>\n",
       "      <th>4</th>\n",
       "      <td>60</td>\n",
       "      <td>RL</td>\n",
       "      <td>84.000</td>\n",
       "      <td>14260</td>\n",
       "      <td>Pave</td>\n",
       "      <td>NaN</td>\n",
       "      <td>IR1</td>\n",
       "      <td>Lvl</td>\n",
       "      <td>AllPub</td>\n",
       "      <td>FR2</td>\n",
       "      <td>...</td>\n",
       "      <td>0</td>\n",
       "      <td>NaN</td>\n",
       "      <td>NaN</td>\n",
       "      <td>NaN</td>\n",
       "      <td>0</td>\n",
       "      <td>12</td>\n",
       "      <td>2008</td>\n",
       "      <td>WD</td>\n",
       "      <td>Normal</td>\n",
       "      <td>12.429</td>\n",
       "    </tr>\n",
       "    <tr>\n",
       "      <th>...</th>\n",
       "      <td>...</td>\n",
       "      <td>...</td>\n",
       "      <td>...</td>\n",
       "      <td>...</td>\n",
       "      <td>...</td>\n",
       "      <td>...</td>\n",
       "      <td>...</td>\n",
       "      <td>...</td>\n",
       "      <td>...</td>\n",
       "      <td>...</td>\n",
       "      <td>...</td>\n",
       "      <td>...</td>\n",
       "      <td>...</td>\n",
       "      <td>...</td>\n",
       "      <td>...</td>\n",
       "      <td>...</td>\n",
       "      <td>...</td>\n",
       "      <td>...</td>\n",
       "      <td>...</td>\n",
       "      <td>...</td>\n",
       "      <td>...</td>\n",
       "    </tr>\n",
       "    <tr>\n",
       "      <th>1455</th>\n",
       "      <td>60</td>\n",
       "      <td>RL</td>\n",
       "      <td>62.000</td>\n",
       "      <td>7917</td>\n",
       "      <td>Pave</td>\n",
       "      <td>NaN</td>\n",
       "      <td>Reg</td>\n",
       "      <td>Lvl</td>\n",
       "      <td>AllPub</td>\n",
       "      <td>Inside</td>\n",
       "      <td>...</td>\n",
       "      <td>0</td>\n",
       "      <td>NaN</td>\n",
       "      <td>NaN</td>\n",
       "      <td>NaN</td>\n",
       "      <td>0</td>\n",
       "      <td>8</td>\n",
       "      <td>2007</td>\n",
       "      <td>WD</td>\n",
       "      <td>Normal</td>\n",
       "      <td>12.073</td>\n",
       "    </tr>\n",
       "    <tr>\n",
       "      <th>1456</th>\n",
       "      <td>20</td>\n",
       "      <td>RL</td>\n",
       "      <td>85.000</td>\n",
       "      <td>13175</td>\n",
       "      <td>Pave</td>\n",
       "      <td>NaN</td>\n",
       "      <td>Reg</td>\n",
       "      <td>Lvl</td>\n",
       "      <td>AllPub</td>\n",
       "      <td>Inside</td>\n",
       "      <td>...</td>\n",
       "      <td>0</td>\n",
       "      <td>NaN</td>\n",
       "      <td>MnPrv</td>\n",
       "      <td>NaN</td>\n",
       "      <td>0</td>\n",
       "      <td>2</td>\n",
       "      <td>2010</td>\n",
       "      <td>WD</td>\n",
       "      <td>Normal</td>\n",
       "      <td>12.255</td>\n",
       "    </tr>\n",
       "    <tr>\n",
       "      <th>1457</th>\n",
       "      <td>70</td>\n",
       "      <td>RL</td>\n",
       "      <td>66.000</td>\n",
       "      <td>9042</td>\n",
       "      <td>Pave</td>\n",
       "      <td>NaN</td>\n",
       "      <td>Reg</td>\n",
       "      <td>Lvl</td>\n",
       "      <td>AllPub</td>\n",
       "      <td>Inside</td>\n",
       "      <td>...</td>\n",
       "      <td>0</td>\n",
       "      <td>NaN</td>\n",
       "      <td>GdPrv</td>\n",
       "      <td>Shed</td>\n",
       "      <td>2500</td>\n",
       "      <td>5</td>\n",
       "      <td>2010</td>\n",
       "      <td>WD</td>\n",
       "      <td>Normal</td>\n",
       "      <td>12.493</td>\n",
       "    </tr>\n",
       "    <tr>\n",
       "      <th>1458</th>\n",
       "      <td>20</td>\n",
       "      <td>RL</td>\n",
       "      <td>68.000</td>\n",
       "      <td>9717</td>\n",
       "      <td>Pave</td>\n",
       "      <td>NaN</td>\n",
       "      <td>Reg</td>\n",
       "      <td>Lvl</td>\n",
       "      <td>AllPub</td>\n",
       "      <td>Inside</td>\n",
       "      <td>...</td>\n",
       "      <td>0</td>\n",
       "      <td>NaN</td>\n",
       "      <td>NaN</td>\n",
       "      <td>NaN</td>\n",
       "      <td>0</td>\n",
       "      <td>4</td>\n",
       "      <td>2010</td>\n",
       "      <td>WD</td>\n",
       "      <td>Normal</td>\n",
       "      <td>11.864</td>\n",
       "    </tr>\n",
       "    <tr>\n",
       "      <th>1459</th>\n",
       "      <td>20</td>\n",
       "      <td>RL</td>\n",
       "      <td>75.000</td>\n",
       "      <td>9937</td>\n",
       "      <td>Pave</td>\n",
       "      <td>NaN</td>\n",
       "      <td>Reg</td>\n",
       "      <td>Lvl</td>\n",
       "      <td>AllPub</td>\n",
       "      <td>Inside</td>\n",
       "      <td>...</td>\n",
       "      <td>0</td>\n",
       "      <td>NaN</td>\n",
       "      <td>NaN</td>\n",
       "      <td>NaN</td>\n",
       "      <td>0</td>\n",
       "      <td>6</td>\n",
       "      <td>2008</td>\n",
       "      <td>WD</td>\n",
       "      <td>Normal</td>\n",
       "      <td>11.902</td>\n",
       "    </tr>\n",
       "  </tbody>\n",
       "</table>\n",
       "<p>1460 rows × 80 columns</p>\n",
       "</div>"
      ],
      "text/plain": [
       "      MSSubClass MSZoning  LotFrontage  LotArea Street Alley LotShape  \\\n",
       "0             60       RL       65.000     8450   Pave   NaN      Reg   \n",
       "1             20       RL       80.000     9600   Pave   NaN      Reg   \n",
       "2             60       RL       68.000    11250   Pave   NaN      IR1   \n",
       "3             70       RL       60.000     9550   Pave   NaN      IR1   \n",
       "4             60       RL       84.000    14260   Pave   NaN      IR1   \n",
       "...          ...      ...          ...      ...    ...   ...      ...   \n",
       "1455          60       RL       62.000     7917   Pave   NaN      Reg   \n",
       "1456          20       RL       85.000    13175   Pave   NaN      Reg   \n",
       "1457          70       RL       66.000     9042   Pave   NaN      Reg   \n",
       "1458          20       RL       68.000     9717   Pave   NaN      Reg   \n",
       "1459          20       RL       75.000     9937   Pave   NaN      Reg   \n",
       "\n",
       "     LandContour Utilities LotConfig  ... PoolArea PoolQC  Fence MiscFeature  \\\n",
       "0            Lvl    AllPub    Inside  ...        0    NaN    NaN         NaN   \n",
       "1            Lvl    AllPub       FR2  ...        0    NaN    NaN         NaN   \n",
       "2            Lvl    AllPub    Inside  ...        0    NaN    NaN         NaN   \n",
       "3            Lvl    AllPub    Corner  ...        0    NaN    NaN         NaN   \n",
       "4            Lvl    AllPub       FR2  ...        0    NaN    NaN         NaN   \n",
       "...          ...       ...       ...  ...      ...    ...    ...         ...   \n",
       "1455         Lvl    AllPub    Inside  ...        0    NaN    NaN         NaN   \n",
       "1456         Lvl    AllPub    Inside  ...        0    NaN  MnPrv         NaN   \n",
       "1457         Lvl    AllPub    Inside  ...        0    NaN  GdPrv        Shed   \n",
       "1458         Lvl    AllPub    Inside  ...        0    NaN    NaN         NaN   \n",
       "1459         Lvl    AllPub    Inside  ...        0    NaN    NaN         NaN   \n",
       "\n",
       "     MiscVal MoSold  YrSold  SaleType  SaleCondition  SalePrice  \n",
       "0          0      2    2008        WD         Normal     12.248  \n",
       "1          0      5    2007        WD         Normal     12.109  \n",
       "2          0      9    2008        WD         Normal     12.317  \n",
       "3          0      2    2006        WD        Abnorml     11.849  \n",
       "4          0     12    2008        WD         Normal     12.429  \n",
       "...      ...    ...     ...       ...            ...        ...  \n",
       "1455       0      8    2007        WD         Normal     12.073  \n",
       "1456       0      2    2010        WD         Normal     12.255  \n",
       "1457    2500      5    2010        WD         Normal     12.493  \n",
       "1458       0      4    2010        WD         Normal     11.864  \n",
       "1459       0      6    2008        WD         Normal     11.902  \n",
       "\n",
       "[1460 rows x 80 columns]"
      ]
     },
     "execution_count": 7,
     "metadata": {},
     "output_type": "execute_result"
    }
   ],
   "source": [
    "train"
   ]
  },
  {
   "cell_type": "markdown",
   "id": "cd0d9f1e",
   "metadata": {
    "execution": {
     "iopub.execute_input": "2023-11-18T11:32:02.271267Z",
     "iopub.status.busy": "2023-11-18T11:32:02.270778Z",
     "iopub.status.idle": "2023-11-18T11:32:02.276409Z",
     "shell.execute_reply": "2023-11-18T11:32:02.275535Z",
     "shell.execute_reply.started": "2023-11-18T11:32:02.271230Z"
    },
    "papermill": {
     "duration": 0.011093,
     "end_time": "2023-11-18T14:03:13.627941",
     "exception": false,
     "start_time": "2023-11-18T14:03:13.616848",
     "status": "completed"
    },
    "tags": []
   },
   "source": [
    "## ***数据工程***"
   ]
  },
  {
   "cell_type": "code",
   "execution_count": 8,
   "id": "fab4f352",
   "metadata": {
    "execution": {
     "iopub.execute_input": "2023-11-18T14:03:13.653150Z",
     "iopub.status.busy": "2023-11-18T14:03:13.652679Z",
     "iopub.status.idle": "2023-11-18T14:03:13.674113Z",
     "shell.execute_reply": "2023-11-18T14:03:13.672788Z"
    },
    "papermill": {
     "duration": 0.037104,
     "end_time": "2023-11-18T14:03:13.676556",
     "exception": false,
     "start_time": "2023-11-18T14:03:13.639452",
     "status": "completed"
    },
    "tags": []
   },
   "outputs": [
    {
     "data": {
      "text/html": [
       "<div>\n",
       "<style scoped>\n",
       "    .dataframe tbody tr th:only-of-type {\n",
       "        vertical-align: middle;\n",
       "    }\n",
       "\n",
       "    .dataframe tbody tr th {\n",
       "        vertical-align: top;\n",
       "    }\n",
       "\n",
       "    .dataframe thead th {\n",
       "        text-align: right;\n",
       "    }\n",
       "</style>\n",
       "<table border=\"1\" class=\"dataframe\">\n",
       "  <thead>\n",
       "    <tr style=\"text-align: right;\">\n",
       "      <th></th>\n",
       "      <th>Missing Ratio</th>\n",
       "    </tr>\n",
       "  </thead>\n",
       "  <tbody>\n",
       "    <tr>\n",
       "      <th>PoolQC</th>\n",
       "      <td>99.657</td>\n",
       "    </tr>\n",
       "    <tr>\n",
       "      <th>MiscFeature</th>\n",
       "      <td>96.403</td>\n",
       "    </tr>\n",
       "    <tr>\n",
       "      <th>Alley</th>\n",
       "      <td>93.217</td>\n",
       "    </tr>\n",
       "    <tr>\n",
       "      <th>Fence</th>\n",
       "      <td>80.439</td>\n",
       "    </tr>\n",
       "    <tr>\n",
       "      <th>MasVnrType</th>\n",
       "      <td>60.500</td>\n",
       "    </tr>\n",
       "    <tr>\n",
       "      <th>FireplaceQu</th>\n",
       "      <td>48.647</td>\n",
       "    </tr>\n",
       "    <tr>\n",
       "      <th>LotFrontage</th>\n",
       "      <td>16.650</td>\n",
       "    </tr>\n",
       "    <tr>\n",
       "      <th>GarageFinish</th>\n",
       "      <td>5.447</td>\n",
       "    </tr>\n",
       "    <tr>\n",
       "      <th>GarageQual</th>\n",
       "      <td>5.447</td>\n",
       "    </tr>\n",
       "    <tr>\n",
       "      <th>GarageCond</th>\n",
       "      <td>5.447</td>\n",
       "    </tr>\n",
       "    <tr>\n",
       "      <th>GarageYrBlt</th>\n",
       "      <td>5.447</td>\n",
       "    </tr>\n",
       "    <tr>\n",
       "      <th>GarageType</th>\n",
       "      <td>5.379</td>\n",
       "    </tr>\n",
       "    <tr>\n",
       "      <th>BsmtExposure</th>\n",
       "      <td>2.809</td>\n",
       "    </tr>\n",
       "    <tr>\n",
       "      <th>BsmtCond</th>\n",
       "      <td>2.809</td>\n",
       "    </tr>\n",
       "    <tr>\n",
       "      <th>BsmtQual</th>\n",
       "      <td>2.775</td>\n",
       "    </tr>\n",
       "    <tr>\n",
       "      <th>BsmtFinType2</th>\n",
       "      <td>2.741</td>\n",
       "    </tr>\n",
       "    <tr>\n",
       "      <th>BsmtFinType1</th>\n",
       "      <td>2.706</td>\n",
       "    </tr>\n",
       "    <tr>\n",
       "      <th>MasVnrArea</th>\n",
       "      <td>0.788</td>\n",
       "    </tr>\n",
       "    <tr>\n",
       "      <th>MSZoning</th>\n",
       "      <td>0.137</td>\n",
       "    </tr>\n",
       "    <tr>\n",
       "      <th>BsmtFullBath</th>\n",
       "      <td>0.069</td>\n",
       "    </tr>\n",
       "  </tbody>\n",
       "</table>\n",
       "</div>"
      ],
      "text/plain": [
       "              Missing Ratio\n",
       "PoolQC               99.657\n",
       "MiscFeature          96.403\n",
       "Alley                93.217\n",
       "Fence                80.439\n",
       "MasVnrType           60.500\n",
       "FireplaceQu          48.647\n",
       "LotFrontage          16.650\n",
       "GarageFinish          5.447\n",
       "GarageQual            5.447\n",
       "GarageCond            5.447\n",
       "GarageYrBlt           5.447\n",
       "GarageType            5.379\n",
       "BsmtExposure          2.809\n",
       "BsmtCond              2.809\n",
       "BsmtQual              2.775\n",
       "BsmtFinType2          2.741\n",
       "BsmtFinType1          2.706\n",
       "MasVnrArea            0.788\n",
       "MSZoning              0.137\n",
       "BsmtFullBath          0.069"
      ]
     },
     "execution_count": 8,
     "metadata": {},
     "output_type": "execute_result"
    }
   ],
   "source": [
    "all_data_na = (all_data.isnull().sum() / len(all_data)) * 100\n",
    "all_data_na = all_data_na.drop(all_data_na[all_data_na == 0].index).sort_values(ascending=False)[:30]\n",
    "missing_data = pd.DataFrame({'Missing Ratio' :all_data_na})\n",
    "missing_data.head(20)"
   ]
  },
  {
   "cell_type": "code",
   "execution_count": 9,
   "id": "ec0dd6a2",
   "metadata": {
    "execution": {
     "iopub.execute_input": "2023-11-18T14:03:13.701336Z",
     "iopub.status.busy": "2023-11-18T14:03:13.700996Z",
     "iopub.status.idle": "2023-11-18T14:03:13.715694Z",
     "shell.execute_reply": "2023-11-18T14:03:13.714794Z"
    },
    "papermill": {
     "duration": 0.029444,
     "end_time": "2023-11-18T14:03:13.717648",
     "exception": false,
     "start_time": "2023-11-18T14:03:13.688204",
     "status": "completed"
    },
    "tags": []
   },
   "outputs": [],
   "source": [
    "#Combine 处理\n",
    "\n",
    "all_data_2 = all_data.copy()\n",
    "all_data_2['Conditions'] = np.where(all_data['Condition1'] == all_data['Condition2'] ,1,2)\n",
    "all_data_2['Exteriors'] = np.where(all_data['Exterior1st'] == all_data['Exterior2nd'] ,1,2)\n",
    "all_data_2['TotalFlrSF'] = all_data['1stFlrSF'] + all_data['2ndFlrSF']\n",
    "all_data_2['TotalBath'] = all_data['BsmtFullBath'] + all_data['BsmtHalfBath']+all_data['FullBath']+all_data['HalfBath']\n",
    "all_data_2['DPArea'] = all_data['WoodDeckSF'] + all_data['OpenPorchSF']+all_data['EnclosedPorch']+all_data['3SsnPorch']+all_data['ScreenPorch']"
   ]
  },
  {
   "cell_type": "markdown",
   "id": "a2703368",
   "metadata": {
    "execution": {
     "iopub.execute_input": "2023-11-18T11:51:59.028336Z",
     "iopub.status.busy": "2023-11-18T11:51:59.027879Z",
     "iopub.status.idle": "2023-11-18T11:51:59.033716Z",
     "shell.execute_reply": "2023-11-18T11:51:59.032685Z",
     "shell.execute_reply.started": "2023-11-18T11:51:59.028306Z"
    },
    "papermill": {
     "duration": 0.010626,
     "end_time": "2023-11-18T14:03:13.739500",
     "exception": false,
     "start_time": "2023-11-18T14:03:13.728874",
     "status": "completed"
    },
    "tags": []
   },
   "source": [
    "## ***缺失值处理***"
   ]
  },
  {
   "cell_type": "code",
   "execution_count": 10,
   "id": "866baa1a",
   "metadata": {
    "execution": {
     "iopub.execute_input": "2023-11-18T14:03:13.814361Z",
     "iopub.status.busy": "2023-11-18T14:03:13.813986Z",
     "iopub.status.idle": "2023-11-18T14:03:13.860782Z",
     "shell.execute_reply": "2023-11-18T14:03:13.859648Z"
    },
    "papermill": {
     "duration": 0.113079,
     "end_time": "2023-11-18T14:03:13.863409",
     "exception": false,
     "start_time": "2023-11-18T14:03:13.750330",
     "status": "completed"
    },
    "tags": []
   },
   "outputs": [],
   "source": [
    "#Missing 处理\n",
    "#分类变量\n",
    "\n",
    "all_data[\"PoolQC\"] = all_data[\"PoolQC\"].fillna('None')\n",
    "all_data[\"MiscFeature\"] = all_data[\"MiscFeature\"].fillna('None')\n",
    "all_data[\"Alley\"] = all_data[\"Alley\"].fillna('None')\n",
    "all_data[\"FireplaceQu\"] = all_data[\"FireplaceQu\"].fillna('None')\n",
    "all_data[\"Fence\"] = all_data[\"Fence\"].fillna(\"None\")\n",
    "\n",
    "for col in ('GarageType', 'GarageFinish', 'GarageQual', 'GarageCond'):\n",
    "    all_data[col] = all_data[col].fillna('None')\n",
    "    \n",
    "for col in ('BsmtQual', 'BsmtCond', 'BsmtExposure', 'BsmtFinType1', 'BsmtFinType2'):\n",
    "    all_data[col] = all_data[col].fillna('None')\n",
    "    \n",
    "all_data[\"MasVnrType\"] = all_data[\"MasVnrType\"].fillna(\"None\")\n",
    "\n",
    "all_data['MSZoning'] = all_data['MSZoning'].fillna(all_data['MSZoning'].mode()[0])\n",
    "\n",
    "all_data[\"Functional\"] = all_data[\"Functional\"].fillna(\"Typ\")\n",
    "\n",
    "all_data['Electrical'] = all_data['Electrical'].fillna(all_data['Electrical'].mode()[0])\n",
    "\n",
    "all_data['KitchenQual'] = all_data['KitchenQual'].fillna(all_data['KitchenQual'].mode()[0])\n",
    "\n",
    "all_data['SaleType'] = all_data['SaleType'].fillna(all_data['SaleType'].mode()[0])\n",
    "\n",
    "all_data['MSSubClass'] = all_data['MSSubClass'].fillna(\"None\")\n",
    "\n",
    "all_data['Exterior1st'] = all_data['Exterior1st'].fillna(all_data['Exterior1st'].mode()[0])\n",
    "all_data['Exterior2nd'] = all_data['Exterior2nd'].fillna(all_data['Exterior2nd'].mode()[0])\n",
    "\n",
    "all_data['Utilities'] = all_data['Utilities'].fillna(\"None\")\n",
    "\n",
    "\n",
    "#数值变量   \n",
    "\n",
    "for col in ('GarageYrBlt', 'GarageArea', 'GarageCars'):\n",
    "    all_data[col] = all_data[col].fillna(0)\n",
    "\n",
    "for col in ('BsmtFinSF1', 'BsmtFinSF2', 'BsmtUnfSF','TotalBsmtSF', 'BsmtFullBath', 'BsmtHalfBath'):\n",
    "    all_data[col] = all_data[col].fillna(0)\n",
    "\n",
    "all_data[\"MasVnrArea\"] = all_data[\"MasVnrArea\"].fillna(0)\n",
    "\n",
    "all_data[\"LotFrontage\"] = all_data.groupby(\"Neighborhood\")[\"LotFrontage\"].transform(\n",
    "    lambda x: x.fillna(x.mean()))\n"
   ]
  },
  {
   "cell_type": "code",
   "execution_count": 11,
   "id": "a02effda",
   "metadata": {
    "execution": {
     "iopub.execute_input": "2023-11-18T14:03:13.888899Z",
     "iopub.status.busy": "2023-11-18T14:03:13.888528Z",
     "iopub.status.idle": "2023-11-18T14:03:13.909041Z",
     "shell.execute_reply": "2023-11-18T14:03:13.907688Z"
    },
    "papermill": {
     "duration": 0.036206,
     "end_time": "2023-11-18T14:03:13.911475",
     "exception": false,
     "start_time": "2023-11-18T14:03:13.875269",
     "status": "completed"
    },
    "tags": []
   },
   "outputs": [
    {
     "data": {
      "text/html": [
       "<div>\n",
       "<style scoped>\n",
       "    .dataframe tbody tr th:only-of-type {\n",
       "        vertical-align: middle;\n",
       "    }\n",
       "\n",
       "    .dataframe tbody tr th {\n",
       "        vertical-align: top;\n",
       "    }\n",
       "\n",
       "    .dataframe thead th {\n",
       "        text-align: right;\n",
       "    }\n",
       "</style>\n",
       "<table border=\"1\" class=\"dataframe\">\n",
       "  <thead>\n",
       "    <tr style=\"text-align: right;\">\n",
       "      <th></th>\n",
       "      <th>Missing Ratio</th>\n",
       "    </tr>\n",
       "  </thead>\n",
       "  <tbody>\n",
       "  </tbody>\n",
       "</table>\n",
       "</div>"
      ],
      "text/plain": [
       "Empty DataFrame\n",
       "Columns: [Missing Ratio]\n",
       "Index: []"
      ]
     },
     "execution_count": 11,
     "metadata": {},
     "output_type": "execute_result"
    }
   ],
   "source": [
    "all_data_na = (all_data.isnull().sum() / len(all_data)) * 100\n",
    "all_data_na = all_data_na.drop(all_data_na[all_data_na == 0].index).sort_values(ascending=False)\n",
    "missing_data = pd.DataFrame({'Missing Ratio' :all_data_na})\n",
    "missing_data.head()"
   ]
  },
  {
   "cell_type": "markdown",
   "id": "f6c850b3",
   "metadata": {
    "papermill": {
     "duration": 0.011352,
     "end_time": "2023-11-18T14:03:13.934896",
     "exception": false,
     "start_time": "2023-11-18T14:03:13.923544",
     "status": "completed"
    },
    "tags": []
   },
   "source": [
    "## ***分类数值处理***"
   ]
  },
  {
   "cell_type": "code",
   "execution_count": 12,
   "id": "4be05bb1",
   "metadata": {
    "execution": {
     "iopub.execute_input": "2023-11-18T14:03:13.961084Z",
     "iopub.status.busy": "2023-11-18T14:03:13.959775Z",
     "iopub.status.idle": "2023-11-18T14:03:13.973047Z",
     "shell.execute_reply": "2023-11-18T14:03:13.971888Z"
    },
    "papermill": {
     "duration": 0.028852,
     "end_time": "2023-11-18T14:03:13.975455",
     "exception": false,
     "start_time": "2023-11-18T14:03:13.946603",
     "status": "completed"
    },
    "tags": []
   },
   "outputs": [],
   "source": [
    "\n",
    "#将一些数值性但实际是分类数值的转换为str类型\n",
    "#MSSubClass=The building class\n",
    "all_data['MSSubClass'] = all_data['MSSubClass'].apply(str)\n",
    "\n",
    "\n",
    "#Changing OverallCond into a categorical variable\n",
    "all_data['OverallCond'] = all_data['OverallCond'].astype(str)\n",
    "\n",
    "\n",
    "#Year and month sold are transformed into categorical features.\n",
    "all_data['YrSold'] = all_data['YrSold'].astype(str)\n",
    "all_data['MoSold'] = all_data['MoSold'].astype(str)"
   ]
  },
  {
   "cell_type": "code",
   "execution_count": 13,
   "id": "bf5b73bd",
   "metadata": {
    "execution": {
     "iopub.execute_input": "2023-11-18T14:03:14.001309Z",
     "iopub.status.busy": "2023-11-18T14:03:14.000877Z",
     "iopub.status.idle": "2023-11-18T14:03:14.019140Z",
     "shell.execute_reply": "2023-11-18T14:03:14.017529Z"
    },
    "papermill": {
     "duration": 0.034306,
     "end_time": "2023-11-18T14:03:14.021765",
     "exception": false,
     "start_time": "2023-11-18T14:03:13.987459",
     "status": "completed"
    },
    "tags": []
   },
   "outputs": [],
   "source": [
    "#Combine 处理\n",
    "\n",
    "all_data_2 = all_data.copy()\n",
    "all_data_2['Conditions'] = np.where(all_data['Condition1'] == all_data['Condition2'] ,1,2)\n",
    "all_data_2['Exteriors'] = np.where(all_data['Exterior1st'] == all_data['Exterior2nd'] ,1,2)\n",
    "all_data_2['TotalFlrSF'] = all_data['1stFlrSF'] + all_data['2ndFlrSF']\n",
    "all_data_2['TotalBath'] = all_data['BsmtFullBath'] + all_data['BsmtFullBath']+all_data['FullBath']+all_data['HalfBath']\n",
    "all_data_2['DPArea'] = all_data['WoodDeckSF'] + all_data['OpenPorchSF']+all_data['OpenPorchSF']+all_data['3SsnPorch']+all_data['ScreenPorch']"
   ]
  },
  {
   "cell_type": "markdown",
   "id": "35010730",
   "metadata": {
    "execution": {
     "iopub.execute_input": "2023-11-18T12:20:33.873324Z",
     "iopub.status.busy": "2023-11-18T12:20:33.872356Z",
     "iopub.status.idle": "2023-11-18T12:20:33.884293Z",
     "shell.execute_reply": "2023-11-18T12:20:33.882712Z",
     "shell.execute_reply.started": "2023-11-18T12:20:33.873289Z"
    },
    "papermill": {
     "duration": 0.01223,
     "end_time": "2023-11-18T14:03:14.046606",
     "exception": false,
     "start_time": "2023-11-18T14:03:14.034376",
     "status": "completed"
    },
    "tags": []
   },
   "source": [
    "all_data_2.drop(['Condition1','Condition2','Exterior1st','Exterior2nd','1stFlrSF','2ndFlrSF','BsmtFullBath','BsmtFullBath','FullBath','HalfBath','WoodDeckSF','OpenPorchSF','OpenPorchSF','3SsnPorch','ScreenPorch'],axis=1, inplace=True)"
   ]
  },
  {
   "cell_type": "code",
   "execution_count": 14,
   "id": "d76e6b3e",
   "metadata": {
    "execution": {
     "iopub.execute_input": "2023-11-18T14:03:14.071810Z",
     "iopub.status.busy": "2023-11-18T14:03:14.071440Z",
     "iopub.status.idle": "2023-11-18T14:03:14.079483Z",
     "shell.execute_reply": "2023-11-18T14:03:14.078463Z"
    },
    "papermill": {
     "duration": 0.02357,
     "end_time": "2023-11-18T14:03:14.082061",
     "exception": false,
     "start_time": "2023-11-18T14:03:14.058491",
     "status": "completed"
    },
    "tags": []
   },
   "outputs": [],
   "source": [
    "all_data_2.drop(['Condition1','Condition2','Exterior1st','Exterior2nd','1stFlrSF','2ndFlrSF','BsmtFullBath','BsmtFullBath','FullBath','HalfBath','WoodDeckSF','OpenPorchSF','OpenPorchSF','3SsnPorch','ScreenPorch'],axis=1, inplace=True)"
   ]
  },
  {
   "cell_type": "code",
   "execution_count": 15,
   "id": "88e08dce",
   "metadata": {
    "execution": {
     "iopub.execute_input": "2023-11-18T14:03:14.107628Z",
     "iopub.status.busy": "2023-11-18T14:03:14.106685Z",
     "iopub.status.idle": "2023-11-18T14:03:14.168443Z",
     "shell.execute_reply": "2023-11-18T14:03:14.167082Z"
    },
    "papermill": {
     "duration": 0.077325,
     "end_time": "2023-11-18T14:03:14.171235",
     "exception": false,
     "start_time": "2023-11-18T14:03:14.093910",
     "status": "completed"
    },
    "tags": []
   },
   "outputs": [
    {
     "data": {
      "text/plain": [
       "MSSubClass     0.000\n",
       "GarageFinish   0.000\n",
       "GarageYrBlt    0.000\n",
       "GarageType     0.000\n",
       "FireplaceQu    0.000\n",
       "                ... \n",
       "MasVnrArea     0.000\n",
       "MasVnrType     0.000\n",
       "RoofMatl       0.000\n",
       "BsmtQual       0.000\n",
       "DPArea         0.000\n",
       "Length: 71, dtype: float64"
      ]
     },
     "execution_count": 15,
     "metadata": {},
     "output_type": "execute_result"
    }
   ],
   "source": [
    "# 量化转换\n",
    "\n",
    "all_data_2['Street'] = np.where(all_data_2['Street'] == 'Grvl',1,0)\n",
    "all_data_2['SaleCondition'] = np.where(all_data_2['SaleCondition'] == 'Normal',1,0)\n",
    "\n",
    "all_data_2['Alley'] = all_data_2['Alley'].apply(\n",
    "    lambda x: 0 if pd.isna(x) else 1)\n",
    "\n",
    "\n",
    "mapping= {\n",
    "    'AllPub': 4,\n",
    "    'NoSewr': 3,\n",
    "    'NoSeWa': 2,\n",
    "    'ELO': 1,\n",
    "    np.nan:0\n",
    "}\n",
    "all_data_2['Utilities'] = all_data_2['Utilities'].replace(mapping)\n",
    "\n",
    "\n",
    "\n",
    "\n",
    "mapping= {\n",
    "    'Lvl': 4,\n",
    "    'Bnk': 3,\n",
    "    'HLS': 2,\n",
    "    'Low': 1,\n",
    "    np.nan: 0\n",
    "}\n",
    "all_data_2['LandContour'] = all_data_2['LandContour'].replace(mapping)\n",
    "\n",
    "\n",
    "\n",
    "\n",
    "mapping0= {\n",
    "    'Reg': 4,\n",
    "    'IR1': 3,\n",
    "    'IR2': 2,\n",
    "    'IR3': 1,\n",
    "    np.nan: 0\n",
    "}\n",
    "all_data_2['LotShape'] = all_data_2['LotShape'].replace(mapping0)\n",
    "\n",
    "\n",
    "\n",
    "\n",
    "\n",
    "mapping1= {\n",
    "'Y':1,\n",
    "'N':0,  \n",
    "}\n",
    "all_data_2['CentralAir'] = all_data_2['CentralAir'].replace(mapping1)\n",
    "\n",
    "\n",
    "mapping2= {\n",
    "    'Typ': 7,\n",
    "    'Min1': 6,\n",
    "    'Min2': 5,\n",
    "    'Mod': 4,\n",
    "    'Maj1': 3,\n",
    "    'Maj2': 2,\n",
    "    'Sev': 1,\n",
    "    'Sal': 0,\n",
    "    np.nan: 0\n",
    "}\n",
    "all_data_2['Functional'] = all_data_2['Functional'].replace(mapping2)\n",
    "\n",
    "\n",
    "\n",
    "mapping3= {\n",
    "    'Fin': 3,\n",
    "    'RFn': 2,\n",
    "    'Unf': 1,\n",
    "    np.nan: 0\n",
    "}\n",
    "all_data_2['GarageFinish'] = all_data_2['GarageFinish'].replace(mapping3)\n",
    "\n",
    "mapping4= {\n",
    "    'Ex': 5,\n",
    "    'Gd': 4,\n",
    "    'TA': 3,\n",
    "    'Fa': 2,\n",
    "    'Po': 1,\n",
    "    np.nan: 0\n",
    "}\n",
    "all_data_2['GarageQual'] = all_data_2['GarageQual'].replace(mapping4)\n",
    "all_data_2['FireplaceQu'] = all_data_2['FireplaceQu'].replace(mapping4)\n",
    "all_data_2['KitchenQual'] = all_data_2['KitchenQual'].replace(mapping4)\n",
    "all_data_2['ExterCond'] = all_data_2['ExterCond'].replace(mapping4)\n",
    "all_data_2['HeatingQC'] = all_data_2['HeatingQC'].replace(mapping4)\n",
    "\n",
    "mapping5= {\n",
    "    'Y': 2,\n",
    "    'P': 1,\n",
    "    'N': 0,\n",
    "    np.nan: 0\n",
    "}\n",
    "\n",
    "all_data_2['PavedDrive'] = all_data_2['PavedDrive'].replace(mapping5)\n",
    "\n",
    "\n",
    "\n",
    "\n",
    "all_data_2['Fence'] = all_data_2['Fence'].apply(lambda x: 0 if pd.isna(x) else 1)\n",
    "\n",
    "\n",
    "all_data_2[\"LotFrontage\"] = all_data.groupby(\"Neighborhood\")[\"LotFrontage\"].transform(lambda x: x.fillna(x.mean()))\n",
    "\n",
    "all_data_na = (all_data_2.isnull().sum() / len(all_data_2)) * 100\n",
    "#pd.set_option('display.max_rows', 500)\n",
    "all_data_na.sort_values()\n",
    "#pd.reset_option('display.max_rows')"
   ]
  },
  {
   "cell_type": "code",
   "execution_count": 16,
   "id": "2e63bb09",
   "metadata": {
    "execution": {
     "iopub.execute_input": "2023-11-18T14:03:14.196423Z",
     "iopub.status.busy": "2023-11-18T14:03:14.196092Z",
     "iopub.status.idle": "2023-11-18T14:03:14.240254Z",
     "shell.execute_reply": "2023-11-18T14:03:14.239174Z"
    },
    "papermill": {
     "duration": 0.059264,
     "end_time": "2023-11-18T14:03:14.242286",
     "exception": false,
     "start_time": "2023-11-18T14:03:14.183022",
     "status": "completed"
    },
    "tags": []
   },
   "outputs": [
    {
     "name": "stdout",
     "output_type": "stream",
     "text": [
      "\n",
      "Skew in numerical features: \n",
      "\n"
     ]
    },
    {
     "data": {
      "text/html": [
       "<div>\n",
       "<style scoped>\n",
       "    .dataframe tbody tr th:only-of-type {\n",
       "        vertical-align: middle;\n",
       "    }\n",
       "\n",
       "    .dataframe tbody tr th {\n",
       "        vertical-align: top;\n",
       "    }\n",
       "\n",
       "    .dataframe thead th {\n",
       "        text-align: right;\n",
       "    }\n",
       "</style>\n",
       "<table border=\"1\" class=\"dataframe\">\n",
       "  <thead>\n",
       "    <tr style=\"text-align: right;\">\n",
       "      <th></th>\n",
       "      <th>Skew</th>\n",
       "    </tr>\n",
       "  </thead>\n",
       "  <tbody>\n",
       "    <tr>\n",
       "      <th>MiscVal</th>\n",
       "      <td>21.947</td>\n",
       "    </tr>\n",
       "    <tr>\n",
       "      <th>PoolArea</th>\n",
       "      <td>16.898</td>\n",
       "    </tr>\n",
       "    <tr>\n",
       "      <th>Street</th>\n",
       "      <td>15.500</td>\n",
       "    </tr>\n",
       "    <tr>\n",
       "      <th>LotArea</th>\n",
       "      <td>12.822</td>\n",
       "    </tr>\n",
       "    <tr>\n",
       "      <th>LowQualFinSF</th>\n",
       "      <td>12.089</td>\n",
       "    </tr>\n",
       "    <tr>\n",
       "      <th>KitchenAbvGr</th>\n",
       "      <td>4.302</td>\n",
       "    </tr>\n",
       "    <tr>\n",
       "      <th>BsmtFinSF2</th>\n",
       "      <td>4.146</td>\n",
       "    </tr>\n",
       "    <tr>\n",
       "      <th>EnclosedPorch</th>\n",
       "      <td>4.004</td>\n",
       "    </tr>\n",
       "    <tr>\n",
       "      <th>BsmtHalfBath</th>\n",
       "      <td>3.932</td>\n",
       "    </tr>\n",
       "    <tr>\n",
       "      <th>MasVnrArea</th>\n",
       "      <td>2.614</td>\n",
       "    </tr>\n",
       "  </tbody>\n",
       "</table>\n",
       "</div>"
      ],
      "text/plain": [
       "                Skew\n",
       "MiscVal       21.947\n",
       "PoolArea      16.898\n",
       "Street        15.500\n",
       "LotArea       12.822\n",
       "LowQualFinSF  12.089\n",
       "KitchenAbvGr   4.302\n",
       "BsmtFinSF2     4.146\n",
       "EnclosedPorch  4.004\n",
       "BsmtHalfBath   3.932\n",
       "MasVnrArea     2.614"
      ]
     },
     "execution_count": 16,
     "metadata": {},
     "output_type": "execute_result"
    }
   ],
   "source": [
    "numeric_feats = all_data_2.dtypes[all_data_2.dtypes != \"object\"].index\n",
    "\n",
    "# Check the skew of all numerical features\n",
    "skewed_feats = all_data_2[numeric_feats].apply(lambda x: skew(x.dropna())).sort_values(ascending=False)\n",
    "print(\"\\nSkew in numerical features: \\n\")\n",
    "skewness = pd.DataFrame({'Skew' :skewed_feats})\n",
    "skewness.head(10)"
   ]
  },
  {
   "cell_type": "code",
   "execution_count": 17,
   "id": "8096090b",
   "metadata": {
    "execution": {
     "iopub.execute_input": "2023-11-18T14:03:14.269000Z",
     "iopub.status.busy": "2023-11-18T14:03:14.267684Z",
     "iopub.status.idle": "2023-11-18T14:03:14.275346Z",
     "shell.execute_reply": "2023-11-18T14:03:14.273516Z"
    },
    "papermill": {
     "duration": 0.022966,
     "end_time": "2023-11-18T14:03:14.277251",
     "exception": false,
     "start_time": "2023-11-18T14:03:14.254285",
     "status": "completed"
    },
    "tags": []
   },
   "outputs": [
    {
     "name": "stdout",
     "output_type": "stream",
     "text": [
      "有40个高偏度特征被Box-Cox变换\n"
     ]
    }
   ],
   "source": [
    "new_skewness = skewness[skewness.abs() > 0.75]\n",
    "print(\"有{}个高偏度特征被Box-Cox变换\".format(new_skewness.shape[0]))"
   ]
  },
  {
   "cell_type": "code",
   "execution_count": 18,
   "id": "2e7137ce",
   "metadata": {
    "execution": {
     "iopub.execute_input": "2023-11-18T14:03:14.304092Z",
     "iopub.status.busy": "2023-11-18T14:03:14.302814Z",
     "iopub.status.idle": "2023-11-18T14:03:14.339994Z",
     "shell.execute_reply": "2023-11-18T14:03:14.338475Z"
    },
    "papermill": {
     "duration": 0.052979,
     "end_time": "2023-11-18T14:03:14.342377",
     "exception": false,
     "start_time": "2023-11-18T14:03:14.289398",
     "status": "completed"
    },
    "tags": []
   },
   "outputs": [],
   "source": [
    "from scipy.special import boxcox1p\n",
    "\n",
    "skewed_features = new_skewness.index \n",
    "lam = 0.15\n",
    "epsilon = 1e-5\n",
    "for feat in skewed_features:\n",
    "    # 偏移数据，确保所有值都是正数\n",
    "    min_val = all_data_2[feat].min()\n",
    "    all_data_2[feat] =  all_data_2[feat] - min_val + epsilon\n",
    "    all_data_2[feat] = boxcox1p( all_data_2[feat], lam)"
   ]
  },
  {
   "cell_type": "code",
   "execution_count": 19,
   "id": "f536f55c",
   "metadata": {
    "execution": {
     "iopub.execute_input": "2023-11-18T14:03:14.368988Z",
     "iopub.status.busy": "2023-11-18T14:03:14.368603Z",
     "iopub.status.idle": "2023-11-18T14:03:14.400991Z",
     "shell.execute_reply": "2023-11-18T14:03:14.399716Z"
    },
    "papermill": {
     "duration": 0.048467,
     "end_time": "2023-11-18T14:03:14.403797",
     "exception": false,
     "start_time": "2023-11-18T14:03:14.355330",
     "status": "completed"
    },
    "tags": []
   },
   "outputs": [
    {
     "name": "stdout",
     "output_type": "stream",
     "text": [
      "(2919, 251)\n"
     ]
    }
   ],
   "source": [
    "all_data_3 = pd.get_dummies(all_data_2)\n",
    "print(all_data_3.shape)"
   ]
  },
  {
   "cell_type": "code",
   "execution_count": 20,
   "id": "512f8702",
   "metadata": {
    "execution": {
     "iopub.execute_input": "2023-11-18T14:03:14.429642Z",
     "iopub.status.busy": "2023-11-18T14:03:14.429293Z",
     "iopub.status.idle": "2023-11-18T14:03:14.449742Z",
     "shell.execute_reply": "2023-11-18T14:03:14.449019Z"
    },
    "papermill": {
     "duration": 0.035534,
     "end_time": "2023-11-18T14:03:14.451716",
     "exception": false,
     "start_time": "2023-11-18T14:03:14.416182",
     "status": "completed"
    },
    "tags": []
   },
   "outputs": [
    {
     "data": {
      "text/html": [
       "<div>\n",
       "<style scoped>\n",
       "    .dataframe tbody tr th:only-of-type {\n",
       "        vertical-align: middle;\n",
       "    }\n",
       "\n",
       "    .dataframe tbody tr th {\n",
       "        vertical-align: top;\n",
       "    }\n",
       "\n",
       "    .dataframe thead th {\n",
       "        text-align: right;\n",
       "    }\n",
       "</style>\n",
       "<table border=\"1\" class=\"dataframe\">\n",
       "  <thead>\n",
       "    <tr style=\"text-align: right;\">\n",
       "      <th></th>\n",
       "      <th>LotFrontage</th>\n",
       "      <th>LotArea</th>\n",
       "      <th>Street</th>\n",
       "      <th>Alley</th>\n",
       "      <th>LotShape</th>\n",
       "      <th>LandContour</th>\n",
       "      <th>OverallQual</th>\n",
       "      <th>YearBuilt</th>\n",
       "      <th>YearRemodAdd</th>\n",
       "      <th>MasVnrArea</th>\n",
       "      <th>...</th>\n",
       "      <th>YrSold_2010</th>\n",
       "      <th>SaleType_COD</th>\n",
       "      <th>SaleType_CWD</th>\n",
       "      <th>SaleType_Con</th>\n",
       "      <th>SaleType_ConLD</th>\n",
       "      <th>SaleType_ConLI</th>\n",
       "      <th>SaleType_ConLw</th>\n",
       "      <th>SaleType_New</th>\n",
       "      <th>SaleType_Oth</th>\n",
       "      <th>SaleType_WD</th>\n",
       "    </tr>\n",
       "  </thead>\n",
       "  <tbody>\n",
       "    <tr>\n",
       "      <th>0</th>\n",
       "      <td>5.134</td>\n",
       "      <td>18.572</td>\n",
       "      <td>0.000</td>\n",
       "      <td>0.000</td>\n",
       "      <td>1.541</td>\n",
       "      <td>1.541</td>\n",
       "      <td>2.260</td>\n",
       "      <td>7.201</td>\n",
       "      <td>5.461</td>\n",
       "      <td>8.059</td>\n",
       "      <td>...</td>\n",
       "      <td>False</td>\n",
       "      <td>False</td>\n",
       "      <td>False</td>\n",
       "      <td>False</td>\n",
       "      <td>False</td>\n",
       "      <td>False</td>\n",
       "      <td>False</td>\n",
       "      <td>False</td>\n",
       "      <td>False</td>\n",
       "      <td>True</td>\n",
       "    </tr>\n",
       "    <tr>\n",
       "      <th>1</th>\n",
       "      <td>5.654</td>\n",
       "      <td>19.143</td>\n",
       "      <td>0.000</td>\n",
       "      <td>0.000</td>\n",
       "      <td>1.541</td>\n",
       "      <td>1.541</td>\n",
       "      <td>2.056</td>\n",
       "      <td>6.733</td>\n",
       "      <td>4.263</td>\n",
       "      <td>0.000</td>\n",
       "      <td>...</td>\n",
       "      <td>False</td>\n",
       "      <td>False</td>\n",
       "      <td>False</td>\n",
       "      <td>False</td>\n",
       "      <td>False</td>\n",
       "      <td>False</td>\n",
       "      <td>False</td>\n",
       "      <td>False</td>\n",
       "      <td>False</td>\n",
       "      <td>True</td>\n",
       "    </tr>\n",
       "    <tr>\n",
       "      <th>2</th>\n",
       "      <td>5.248</td>\n",
       "      <td>19.854</td>\n",
       "      <td>0.000</td>\n",
       "      <td>0.000</td>\n",
       "      <td>1.194</td>\n",
       "      <td>1.541</td>\n",
       "      <td>2.260</td>\n",
       "      <td>7.169</td>\n",
       "      <td>5.427</td>\n",
       "      <td>7.647</td>\n",
       "      <td>...</td>\n",
       "      <td>False</td>\n",
       "      <td>False</td>\n",
       "      <td>False</td>\n",
       "      <td>False</td>\n",
       "      <td>False</td>\n",
       "      <td>False</td>\n",
       "      <td>False</td>\n",
       "      <td>False</td>\n",
       "      <td>False</td>\n",
       "      <td>True</td>\n",
       "    </tr>\n",
       "    <tr>\n",
       "      <th>3</th>\n",
       "      <td>4.927</td>\n",
       "      <td>19.119</td>\n",
       "      <td>0.000</td>\n",
       "      <td>0.000</td>\n",
       "      <td>1.194</td>\n",
       "      <td>1.541</td>\n",
       "      <td>2.260</td>\n",
       "      <td>5.094</td>\n",
       "      <td>3.859</td>\n",
       "      <td>0.000</td>\n",
       "      <td>...</td>\n",
       "      <td>False</td>\n",
       "      <td>False</td>\n",
       "      <td>False</td>\n",
       "      <td>False</td>\n",
       "      <td>False</td>\n",
       "      <td>False</td>\n",
       "      <td>False</td>\n",
       "      <td>False</td>\n",
       "      <td>False</td>\n",
       "      <td>True</td>\n",
       "    </tr>\n",
       "    <tr>\n",
       "      <th>4</th>\n",
       "      <td>5.774</td>\n",
       "      <td>20.927</td>\n",
       "      <td>0.000</td>\n",
       "      <td>0.000</td>\n",
       "      <td>1.194</td>\n",
       "      <td>1.541</td>\n",
       "      <td>2.440</td>\n",
       "      <td>7.153</td>\n",
       "      <td>5.357</td>\n",
       "      <td>9.392</td>\n",
       "      <td>...</td>\n",
       "      <td>False</td>\n",
       "      <td>False</td>\n",
       "      <td>False</td>\n",
       "      <td>False</td>\n",
       "      <td>False</td>\n",
       "      <td>False</td>\n",
       "      <td>False</td>\n",
       "      <td>False</td>\n",
       "      <td>False</td>\n",
       "      <td>True</td>\n",
       "    </tr>\n",
       "  </tbody>\n",
       "</table>\n",
       "<p>5 rows × 251 columns</p>\n",
       "</div>"
      ],
      "text/plain": [
       "   LotFrontage  LotArea  Street  Alley  LotShape  LandContour  OverallQual  \\\n",
       "0        5.134   18.572   0.000  0.000     1.541        1.541        2.260   \n",
       "1        5.654   19.143   0.000  0.000     1.541        1.541        2.056   \n",
       "2        5.248   19.854   0.000  0.000     1.194        1.541        2.260   \n",
       "3        4.927   19.119   0.000  0.000     1.194        1.541        2.260   \n",
       "4        5.774   20.927   0.000  0.000     1.194        1.541        2.440   \n",
       "\n",
       "   YearBuilt  YearRemodAdd  MasVnrArea  ...  YrSold_2010  SaleType_COD  \\\n",
       "0      7.201         5.461       8.059  ...        False         False   \n",
       "1      6.733         4.263       0.000  ...        False         False   \n",
       "2      7.169         5.427       7.647  ...        False         False   \n",
       "3      5.094         3.859       0.000  ...        False         False   \n",
       "4      7.153         5.357       9.392  ...        False         False   \n",
       "\n",
       "   SaleType_CWD  SaleType_Con  SaleType_ConLD  SaleType_ConLI  SaleType_ConLw  \\\n",
       "0         False         False           False           False           False   \n",
       "1         False         False           False           False           False   \n",
       "2         False         False           False           False           False   \n",
       "3         False         False           False           False           False   \n",
       "4         False         False           False           False           False   \n",
       "\n",
       "   SaleType_New  SaleType_Oth  SaleType_WD  \n",
       "0         False         False         True  \n",
       "1         False         False         True  \n",
       "2         False         False         True  \n",
       "3         False         False         True  \n",
       "4         False         False         True  \n",
       "\n",
       "[5 rows x 251 columns]"
      ]
     },
     "execution_count": 20,
     "metadata": {},
     "output_type": "execute_result"
    }
   ],
   "source": [
    "all_data_3.head()"
   ]
  },
  {
   "cell_type": "markdown",
   "id": "3ed94a11",
   "metadata": {
    "papermill": {
     "duration": 0.012504,
     "end_time": "2023-11-18T14:03:14.476736",
     "exception": false,
     "start_time": "2023-11-18T14:03:14.464232",
     "status": "completed"
    },
    "tags": []
   },
   "source": [
    "**特征性方差检验**"
   ]
  },
  {
   "cell_type": "code",
   "execution_count": 21,
   "id": "f54ca62c",
   "metadata": {
    "execution": {
     "iopub.execute_input": "2023-11-18T14:03:14.503515Z",
     "iopub.status.busy": "2023-11-18T14:03:14.502915Z",
     "iopub.status.idle": "2023-11-18T14:03:14.525375Z",
     "shell.execute_reply": "2023-11-18T14:03:14.524235Z"
    },
    "papermill": {
     "duration": 0.03842,
     "end_time": "2023-11-18T14:03:14.527501",
     "exception": false,
     "start_time": "2023-11-18T14:03:14.489081",
     "status": "completed"
    },
    "tags": []
   },
   "outputs": [
    {
     "data": {
      "text/plain": [
       "Fence               0.000\n",
       "Alley               0.000\n",
       "MSSubClass_150      0.000\n",
       "RoofMatl_Membran    0.000\n",
       "MiscFeature_TenC    0.000\n",
       "                    ...  \n",
       "GarageYrBlt        10.315\n",
       "BsmtUnfSF          11.607\n",
       "DPArea             14.618\n",
       "MasVnrArea         16.947\n",
       "BsmtFinSF1         26.282\n",
       "Length: 251, dtype: float64"
      ]
     },
     "execution_count": 21,
     "metadata": {},
     "output_type": "execute_result"
    }
   ],
   "source": [
    "feature_variances = all_data_3.var()\n",
    "feature_variances.sort_values()"
   ]
  },
  {
   "cell_type": "markdown",
   "id": "6d03a07c",
   "metadata": {
    "papermill": {
     "duration": 0.011758,
     "end_time": "2023-11-18T14:03:14.551799",
     "exception": false,
     "start_time": "2023-11-18T14:03:14.540041",
     "status": "completed"
    },
    "tags": []
   },
   "source": [
    "#### 导入算法包"
   ]
  },
  {
   "cell_type": "code",
   "execution_count": 22,
   "id": "e8cfb84c",
   "metadata": {
    "execution": {
     "iopub.execute_input": "2023-11-18T14:03:14.577644Z",
     "iopub.status.busy": "2023-11-18T14:03:14.577286Z",
     "iopub.status.idle": "2023-11-18T14:03:16.273629Z",
     "shell.execute_reply": "2023-11-18T14:03:16.272592Z"
    },
    "papermill": {
     "duration": 1.71218,
     "end_time": "2023-11-18T14:03:16.276055",
     "exception": false,
     "start_time": "2023-11-18T14:03:14.563875",
     "status": "completed"
    },
    "tags": []
   },
   "outputs": [],
   "source": [
    "from sklearn.linear_model import ElasticNet, Lasso\n",
    "from sklearn.ensemble import GradientBoostingRegressor\n",
    "from sklearn.kernel_ridge import KernelRidge\n",
    "from sklearn.pipeline import make_pipeline\n",
    "from sklearn.preprocessing import RobustScaler\n",
    "from sklearn.base import BaseEstimator, TransformerMixin, RegressorMixin, clone\n",
    "from sklearn.model_selection import KFold, cross_val_score, train_test_split\n",
    "from sklearn.metrics import mean_squared_error\n",
    "from sklearn.linear_model import LinearRegression\n",
    "import xgboost as xgb\n",
    "import lightgbm as lgb"
   ]
  },
  {
   "cell_type": "code",
   "execution_count": 23,
   "id": "13c480dc",
   "metadata": {
    "execution": {
     "iopub.execute_input": "2023-11-18T14:03:16.302295Z",
     "iopub.status.busy": "2023-11-18T14:03:16.301869Z",
     "iopub.status.idle": "2023-11-18T14:03:16.307318Z",
     "shell.execute_reply": "2023-11-18T14:03:16.306471Z"
    },
    "papermill": {
     "duration": 0.02073,
     "end_time": "2023-11-18T14:03:16.309169",
     "exception": false,
     "start_time": "2023-11-18T14:03:16.288439",
     "status": "completed"
    },
    "tags": []
   },
   "outputs": [],
   "source": [
    "train = all_data_3[:ntrain]\n",
    "test = all_data_3[ntrain:]"
   ]
  },
  {
   "cell_type": "code",
   "execution_count": 24,
   "id": "ab8e3fe7",
   "metadata": {
    "execution": {
     "iopub.execute_input": "2023-11-18T14:03:16.337153Z",
     "iopub.status.busy": "2023-11-18T14:03:16.336497Z",
     "iopub.status.idle": "2023-11-18T14:03:16.342313Z",
     "shell.execute_reply": "2023-11-18T14:03:16.341326Z"
    },
    "papermill": {
     "duration": 0.022471,
     "end_time": "2023-11-18T14:03:16.344762",
     "exception": false,
     "start_time": "2023-11-18T14:03:16.322291",
     "status": "completed"
    },
    "tags": []
   },
   "outputs": [],
   "source": [
    "#Validation function\n",
    "n_folds = 5\n",
    "\n",
    "def rmsle_cv(model):\n",
    "    kf = KFold(n_folds, shuffle=True, random_state=42).get_n_splits(train.values)\n",
    "    rmse= np.sqrt(-cross_val_score(model, train.values, y_train, scoring=\"neg_mean_squared_error\", cv = kf))\n",
    "    return(rmse)"
   ]
  },
  {
   "cell_type": "code",
   "execution_count": 25,
   "id": "7ef4aca4",
   "metadata": {
    "execution": {
     "iopub.execute_input": "2023-11-18T14:03:16.371280Z",
     "iopub.status.busy": "2023-11-18T14:03:16.370895Z",
     "iopub.status.idle": "2023-11-18T14:03:16.378541Z",
     "shell.execute_reply": "2023-11-18T14:03:16.377371Z"
    },
    "papermill": {
     "duration": 0.023389,
     "end_time": "2023-11-18T14:03:16.380922",
     "exception": false,
     "start_time": "2023-11-18T14:03:16.357533",
     "status": "completed"
    },
    "tags": []
   },
   "outputs": [],
   "source": [
    "\n",
    "# 岭回归\n",
    "\n",
    "KRR = KernelRidge(alpha=0.6, kernel='polynomial', degree=2, coef0=2.5)\n",
    "\n",
    "# 弹性回归\n",
    "\n",
    "ENet = make_pipeline(RobustScaler(), ElasticNet(alpha=0.0005, l1_ratio=.9, random_state=3))\n",
    "\n",
    "\n",
    "# 拉索回归\n",
    "lasso = make_pipeline(RobustScaler(), Lasso(alpha =0.0005, random_state=1))\n",
    "\n",
    "\n",
    "GBoost = GradientBoostingRegressor(n_estimators=3000, learning_rate=0.05,\n",
    "                                   max_depth=4, max_features='sqrt',\n",
    "                                   min_samples_leaf=15, min_samples_split=10, \n",
    "                                   loss='huber', random_state =5)\n",
    "\n",
    "model_xgb = xgb.XGBRegressor(colsample_bytree=0.4603, gamma=0.0468, \n",
    "                             learning_rate=0.05, max_depth=3, \n",
    "                             min_child_weight=1.7817, n_estimators=2200,\n",
    "                             reg_alpha=0.4640, reg_lambda=0.8571,\n",
    "                             subsample=0.5213, silent=1,\n",
    "                             random_state =7, nthread = -1)\n",
    "\n",
    "model_lgb = lgb.LGBMRegressor(objective='regression',num_leaves=5,\n",
    "                              learning_rate=0.05, n_estimators=720,\n",
    "                              max_bin = 55, bagging_fraction = 0.8,\n",
    "                              bagging_freq = 5, feature_fraction = 0.2319,\n",
    "                              feature_fraction_seed=9, bagging_seed=9,\n",
    "                              min_data_in_leaf =6, min_sum_hessian_in_leaf = 11)\n"
   ]
  },
  {
   "cell_type": "code",
   "execution_count": 26,
   "id": "171c30a3",
   "metadata": {
    "execution": {
     "iopub.execute_input": "2023-11-18T14:03:16.408038Z",
     "iopub.status.busy": "2023-11-18T14:03:16.407336Z",
     "iopub.status.idle": "2023-11-18T14:03:17.753383Z",
     "shell.execute_reply": "2023-11-18T14:03:17.752698Z"
    },
    "papermill": {
     "duration": 1.361739,
     "end_time": "2023-11-18T14:03:17.755503",
     "exception": false,
     "start_time": "2023-11-18T14:03:16.393764",
     "status": "completed"
    },
    "tags": []
   },
   "outputs": [
    {
     "name": "stdout",
     "output_type": "stream",
     "text": [
      "\n",
      "Lasso score: 0.1271 (0.0154)\n",
      "\n"
     ]
    }
   ],
   "source": [
    "score = rmsle_cv(lasso)\n",
    "print(\"\\nLasso score: {:.4f} ({:.4f})\\n\".format(score.mean(), score.std()))"
   ]
  },
  {
   "cell_type": "code",
   "execution_count": 27,
   "id": "84543bde",
   "metadata": {
    "execution": {
     "iopub.execute_input": "2023-11-18T14:03:17.826810Z",
     "iopub.status.busy": "2023-11-18T14:03:17.826287Z",
     "iopub.status.idle": "2023-11-18T14:03:18.349825Z",
     "shell.execute_reply": "2023-11-18T14:03:18.348995Z"
    },
    "papermill": {
     "duration": 0.560157,
     "end_time": "2023-11-18T14:03:18.351740",
     "exception": false,
     "start_time": "2023-11-18T14:03:17.791583",
     "status": "completed"
    },
    "tags": []
   },
   "outputs": [
    {
     "name": "stdout",
     "output_type": "stream",
     "text": [
      "Kernel Ridge score: 0.1326 (0.0196)\n",
      "\n"
     ]
    }
   ],
   "source": [
    "score = rmsle_cv(KRR)\n",
    "print(\"Kernel Ridge score: {:.4f} ({:.4f})\\n\".format(score.mean(), score.std()))"
   ]
  },
  {
   "cell_type": "code",
   "execution_count": 28,
   "id": "947e75c4",
   "metadata": {
    "execution": {
     "iopub.execute_input": "2023-11-18T14:03:18.411747Z",
     "iopub.status.busy": "2023-11-18T14:03:18.411189Z",
     "iopub.status.idle": "2023-11-18T14:03:19.635037Z",
     "shell.execute_reply": "2023-11-18T14:03:19.634306Z"
    },
    "papermill": {
     "duration": 1.262442,
     "end_time": "2023-11-18T14:03:19.637159",
     "exception": false,
     "start_time": "2023-11-18T14:03:18.374717",
     "status": "completed"
    },
    "tags": []
   },
   "outputs": [
    {
     "name": "stdout",
     "output_type": "stream",
     "text": [
      "ElasticNet score: 0.1269 (0.0154)\n",
      "\n"
     ]
    }
   ],
   "source": [
    "score = rmsle_cv(ENet)\n",
    "print(\"ElasticNet score: {:.4f} ({:.4f})\\n\".format(score.mean(), score.std()))"
   ]
  },
  {
   "cell_type": "code",
   "execution_count": 29,
   "id": "92d93c26",
   "metadata": {
    "execution": {
     "iopub.execute_input": "2023-11-18T14:03:19.674315Z",
     "iopub.status.busy": "2023-11-18T14:03:19.673934Z",
     "iopub.status.idle": "2023-11-18T14:03:29.324313Z",
     "shell.execute_reply": "2023-11-18T14:03:29.322699Z"
    },
    "papermill": {
     "duration": 9.671655,
     "end_time": "2023-11-18T14:03:29.326563",
     "exception": false,
     "start_time": "2023-11-18T14:03:19.654908",
     "status": "completed"
    },
    "tags": []
   },
   "outputs": [
    {
     "name": "stdout",
     "output_type": "stream",
     "text": [
      "[LightGBM] [Warning] feature_fraction is set=0.2319, colsample_bytree=1.0 will be ignored. Current value: feature_fraction=0.2319\n",
      "[LightGBM] [Warning] min_sum_hessian_in_leaf is set=11, min_child_weight=0.001 will be ignored. Current value: min_sum_hessian_in_leaf=11\n",
      "[LightGBM] [Warning] min_data_in_leaf is set=6, min_child_samples=20 will be ignored. Current value: min_data_in_leaf=6\n",
      "[LightGBM] [Warning] bagging_freq is set=5, subsample_freq=0 will be ignored. Current value: bagging_freq=5\n",
      "[LightGBM] [Warning] bagging_fraction is set=0.8, subsample=1.0 will be ignored. Current value: bagging_fraction=0.8\n",
      "[LightGBM] [Warning] feature_fraction is set=0.2319, colsample_bytree=1.0 will be ignored. Current value: feature_fraction=0.2319\n",
      "[LightGBM] [Warning] min_sum_hessian_in_leaf is set=11, min_child_weight=0.001 will be ignored. Current value: min_sum_hessian_in_leaf=11\n",
      "[LightGBM] [Warning] min_data_in_leaf is set=6, min_child_samples=20 will be ignored. Current value: min_data_in_leaf=6\n",
      "[LightGBM] [Warning] bagging_freq is set=5, subsample_freq=0 will be ignored. Current value: bagging_freq=5\n",
      "[LightGBM] [Warning] bagging_fraction is set=0.8, subsample=1.0 will be ignored. Current value: bagging_fraction=0.8\n",
      "[LightGBM] [Warning] feature_fraction is set=0.2319, colsample_bytree=1.0 will be ignored. Current value: feature_fraction=0.2319\n",
      "[LightGBM] [Warning] min_sum_hessian_in_leaf is set=11, min_child_weight=0.001 will be ignored. Current value: min_sum_hessian_in_leaf=11\n",
      "[LightGBM] [Warning] min_data_in_leaf is set=6, min_child_samples=20 will be ignored. Current value: min_data_in_leaf=6\n",
      "[LightGBM] [Warning] bagging_freq is set=5, subsample_freq=0 will be ignored. Current value: bagging_freq=5\n",
      "[LightGBM] [Warning] bagging_fraction is set=0.8, subsample=1.0 will be ignored. Current value: bagging_fraction=0.8\n",
      "[LightGBM] [Warning] feature_fraction is set=0.2319, colsample_bytree=1.0 will be ignored. Current value: feature_fraction=0.2319\n",
      "[LightGBM] [Warning] min_sum_hessian_in_leaf is set=11, min_child_weight=0.001 will be ignored. Current value: min_sum_hessian_in_leaf=11\n",
      "[LightGBM] [Warning] min_data_in_leaf is set=6, min_child_samples=20 will be ignored. Current value: min_data_in_leaf=6\n",
      "[LightGBM] [Warning] bagging_freq is set=5, subsample_freq=0 will be ignored. Current value: bagging_freq=5\n",
      "[LightGBM] [Warning] bagging_fraction is set=0.8, subsample=1.0 will be ignored. Current value: bagging_fraction=0.8\n",
      "[LightGBM] [Warning] feature_fraction is set=0.2319, colsample_bytree=1.0 will be ignored. Current value: feature_fraction=0.2319\n",
      "[LightGBM] [Warning] min_sum_hessian_in_leaf is set=11, min_child_weight=0.001 will be ignored. Current value: min_sum_hessian_in_leaf=11\n",
      "[LightGBM] [Warning] min_data_in_leaf is set=6, min_child_samples=20 will be ignored. Current value: min_data_in_leaf=6\n",
      "[LightGBM] [Warning] bagging_freq is set=5, subsample_freq=0 will be ignored. Current value: bagging_freq=5\n",
      "[LightGBM] [Warning] bagging_fraction is set=0.8, subsample=1.0 will be ignored. Current value: bagging_fraction=0.8\n",
      "LGBM score: 0.1242 (0.0083)\n",
      "\n"
     ]
    }
   ],
   "source": [
    "score = rmsle_cv(model_lgb)\n",
    "print(\"LGBM score: {:.4f} ({:.4f})\\n\" .format(score.mean(), score.std()))"
   ]
  },
  {
   "cell_type": "code",
   "execution_count": 30,
   "id": "e85cb9e9",
   "metadata": {
    "execution": {
     "iopub.execute_input": "2023-11-18T14:03:29.354629Z",
     "iopub.status.busy": "2023-11-18T14:03:29.354089Z",
     "iopub.status.idle": "2023-11-18T14:03:29.360104Z",
     "shell.execute_reply": "2023-11-18T14:03:29.358538Z"
    },
    "papermill": {
     "duration": 0.022456,
     "end_time": "2023-11-18T14:03:29.362231",
     "exception": false,
     "start_time": "2023-11-18T14:03:29.339775",
     "status": "completed"
    },
    "tags": []
   },
   "outputs": [],
   "source": [
    "def rmsle(y, y_pred):\n",
    "    return np.sqrt(mean_squared_error(y, y_pred))"
   ]
  },
  {
   "cell_type": "code",
   "execution_count": 31,
   "id": "5893c59d",
   "metadata": {
    "execution": {
     "iopub.execute_input": "2023-11-18T14:03:29.389258Z",
     "iopub.status.busy": "2023-11-18T14:03:29.388893Z",
     "iopub.status.idle": "2023-11-18T14:03:31.333099Z",
     "shell.execute_reply": "2023-11-18T14:03:31.331796Z"
    },
    "papermill": {
     "duration": 1.960589,
     "end_time": "2023-11-18T14:03:31.335596",
     "exception": false,
     "start_time": "2023-11-18T14:03:29.375007",
     "status": "completed"
    },
    "tags": []
   },
   "outputs": [
    {
     "name": "stdout",
     "output_type": "stream",
     "text": [
      "[LightGBM] [Warning] feature_fraction is set=0.2319, colsample_bytree=1.0 will be ignored. Current value: feature_fraction=0.2319\n",
      "[LightGBM] [Warning] min_sum_hessian_in_leaf is set=11, min_child_weight=0.001 will be ignored. Current value: min_sum_hessian_in_leaf=11\n",
      "[LightGBM] [Warning] min_data_in_leaf is set=6, min_child_samples=20 will be ignored. Current value: min_data_in_leaf=6\n",
      "[LightGBM] [Warning] bagging_freq is set=5, subsample_freq=0 will be ignored. Current value: bagging_freq=5\n",
      "[LightGBM] [Warning] bagging_fraction is set=0.8, subsample=1.0 will be ignored. Current value: bagging_fraction=0.8\n",
      "0.07893183583842144\n"
     ]
    }
   ],
   "source": [
    "model_lgb.fit(train, y_train)\n",
    "lgb_train_pred = model_lgb.predict(train)\n",
    "lgb_pred = np.expm1(model_lgb.predict(test.values))\n",
    "print(rmsle(y_train, lgb_train_pred))"
   ]
  },
  {
   "cell_type": "code",
   "execution_count": 32,
   "id": "721f7524",
   "metadata": {
    "execution": {
     "iopub.execute_input": "2023-11-18T14:03:31.363368Z",
     "iopub.status.busy": "2023-11-18T14:03:31.362996Z",
     "iopub.status.idle": "2023-11-18T14:03:31.375124Z",
     "shell.execute_reply": "2023-11-18T14:03:31.374111Z"
    },
    "papermill": {
     "duration": 0.02887,
     "end_time": "2023-11-18T14:03:31.377625",
     "exception": false,
     "start_time": "2023-11-18T14:03:31.348755",
     "status": "completed"
    },
    "tags": []
   },
   "outputs": [],
   "source": [
    "sub = pd.DataFrame()\n",
    "sub['Id'] = test_ID\n",
    "sub['SalePrice'] = lgb_pred\n",
    "sub.to_csv('submission.csv',index=False)"
   ]
  },
  {
   "cell_type": "code",
   "execution_count": null,
   "id": "e6aa4f1c",
   "metadata": {
    "execution": {
     "iopub.execute_input": "2023-11-18T12:33:14.826797Z",
     "iopub.status.busy": "2023-11-18T12:33:14.826353Z",
     "iopub.status.idle": "2023-11-18T12:33:31.336782Z",
     "shell.execute_reply": "2023-11-18T12:33:31.335969Z",
     "shell.execute_reply.started": "2023-11-18T12:33:14.826761Z"
    },
    "papermill": {
     "duration": 0.012417,
     "end_time": "2023-11-18T14:03:31.403236",
     "exception": false,
     "start_time": "2023-11-18T14:03:31.390819",
     "status": "completed"
    },
    "tags": []
   },
   "outputs": [],
   "source": []
  },
  {
   "cell_type": "code",
   "execution_count": null,
   "id": "91af1760",
   "metadata": {
    "execution": {
     "iopub.execute_input": "2023-11-18T12:33:55.049535Z",
     "iopub.status.busy": "2023-11-18T12:33:55.049124Z",
     "iopub.status.idle": "2023-11-18T12:33:55.057946Z",
     "shell.execute_reply": "2023-11-18T12:33:55.056622Z",
     "shell.execute_reply.started": "2023-11-18T12:33:55.049502Z"
    },
    "papermill": {
     "duration": 0.012768,
     "end_time": "2023-11-18T14:03:31.428759",
     "exception": false,
     "start_time": "2023-11-18T14:03:31.415991",
     "status": "completed"
    },
    "tags": []
   },
   "outputs": [],
   "source": []
  },
  {
   "cell_type": "code",
   "execution_count": null,
   "id": "7b0ca606",
   "metadata": {
    "execution": {
     "iopub.execute_input": "2023-11-18T12:34:06.008631Z",
     "iopub.status.busy": "2023-11-18T12:34:06.008180Z",
     "iopub.status.idle": "2023-11-18T12:35:32.045953Z",
     "shell.execute_reply": "2023-11-18T12:35:32.044430Z",
     "shell.execute_reply.started": "2023-11-18T12:34:06.008589Z"
    },
    "papermill": {
     "duration": 0.01273,
     "end_time": "2023-11-18T14:03:31.454528",
     "exception": false,
     "start_time": "2023-11-18T14:03:31.441798",
     "status": "completed"
    },
    "tags": []
   },
   "outputs": [],
   "source": []
  },
  {
   "cell_type": "code",
   "execution_count": null,
   "id": "a3a8ad20",
   "metadata": {
    "execution": {
     "iopub.execute_input": "2023-11-18T13:10:03.836804Z",
     "iopub.status.busy": "2023-11-18T13:10:03.836361Z",
     "iopub.status.idle": "2023-11-18T13:10:03.857924Z",
     "shell.execute_reply": "2023-11-18T13:10:03.856653Z",
     "shell.execute_reply.started": "2023-11-18T13:10:03.836775Z"
    },
    "papermill": {
     "duration": 0.012806,
     "end_time": "2023-11-18T14:03:31.480390",
     "exception": false,
     "start_time": "2023-11-18T14:03:31.467584",
     "status": "completed"
    },
    "tags": []
   },
   "outputs": [],
   "source": []
  },
  {
   "cell_type": "code",
   "execution_count": null,
   "id": "2d7c4699",
   "metadata": {
    "execution": {
     "iopub.execute_input": "2023-11-18T13:10:13.418443Z",
     "iopub.status.busy": "2023-11-18T13:10:13.417629Z",
     "iopub.status.idle": "2023-11-18T13:16:43.809382Z",
     "shell.execute_reply": "2023-11-18T13:16:43.807916Z",
     "shell.execute_reply.started": "2023-11-18T13:10:13.418403Z"
    },
    "papermill": {
     "duration": 0.012824,
     "end_time": "2023-11-18T14:03:31.506138",
     "exception": false,
     "start_time": "2023-11-18T14:03:31.493314",
     "status": "completed"
    },
    "tags": []
   },
   "outputs": [],
   "source": []
  },
  {
   "cell_type": "code",
   "execution_count": null,
   "id": "51118f2d",
   "metadata": {
    "papermill": {
     "duration": 0.012653,
     "end_time": "2023-11-18T14:03:31.531580",
     "exception": false,
     "start_time": "2023-11-18T14:03:31.518927",
     "status": "completed"
    },
    "tags": []
   },
   "outputs": [],
   "source": []
  }
 ],
 "metadata": {
  "kaggle": {
   "accelerator": "none",
   "dataSources": [
    {
     "databundleVersionId": 868283,
     "sourceId": 5407,
     "sourceType": "competition"
    }
   ],
   "dockerImageVersionId": 30587,
   "isGpuEnabled": false,
   "isInternetEnabled": true,
   "language": "python",
   "sourceType": "notebook"
  },
  "kernelspec": {
   "display_name": "Python 3",
   "language": "python",
   "name": "python3"
  },
  "language_info": {
   "codemirror_mode": {
    "name": "ipython",
    "version": 3
   },
   "file_extension": ".py",
   "mimetype": "text/x-python",
   "name": "python",
   "nbconvert_exporter": "python",
   "pygments_lexer": "ipython3",
   "version": "3.10.12"
  },
  "papermill": {
   "default_parameters": {},
   "duration": 24.835387,
   "end_time": "2023-11-18T14:03:32.265642",
   "environment_variables": {},
   "exception": null,
   "input_path": "__notebook__.ipynb",
   "output_path": "__notebook__.ipynb",
   "parameters": {},
   "start_time": "2023-11-18T14:03:07.430255",
   "version": "2.4.0"
  }
 },
 "nbformat": 4,
 "nbformat_minor": 5
}
